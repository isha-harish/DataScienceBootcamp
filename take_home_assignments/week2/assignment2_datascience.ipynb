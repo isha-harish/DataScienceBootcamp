{
 "cells": [
  {
   "cell_type": "markdown",
   "id": "8cb83418",
   "metadata": {},
   "source": [
    "# Take-Home Assignment 2\n",
    "\n"
   ]
  },
  {
   "cell_type": "markdown",
   "id": "d923ce0e",
   "metadata": {},
   "source": [
    "## Part 1 - Numpy"
   ]
  },
  {
   "cell_type": "markdown",
   "id": "a741bdbb",
   "metadata": {},
   "source": [
    "### Question 1\n",
    "Define two custom numpy arrays, A and B. Generate two new numpy arrays by stacking A and B vertically and horizontally."
   ]
  },
  {
   "cell_type": "code",
   "execution_count": 3,
   "id": "8391ca9d",
   "metadata": {},
   "outputs": [
    {
     "name": "stdout",
     "output_type": "stream",
     "text": [
      "Vertical Stack:\n",
      " [[1 2 3 4 5 6]\n",
      " [4 5 6 7 8 9]]\n",
      "Horizontal Stack:\n",
      " [1 2 3 4 5 6 4 5 6 7 8 9]\n"
     ]
    }
   ],
   "source": [
    "\n",
    "import numpy as np\n",
    "\n",
    "# Define two custom numpy arrays A and B\n",
    "A = np.array([1, 2, 3, 4, 5, 6])\n",
    "B = np.array([4, 5, 6, 7, 8, 9])\n",
    "\n",
    "# Stack A and B vertically and horizontally\n",
    "vertical_stack = np.vstack((A, B))\n",
    "horizontal_stack = np.hstack((A, B))\n",
    "\n",
    "print(\"Vertical Stack:\\n\", vertical_stack)\n",
    "print(\"Horizontal Stack:\\n\", horizontal_stack)\n"
   ]
  },
  {
   "cell_type": "markdown",
   "id": "11f2fe4d",
   "metadata": {},
   "source": [
    "### Question 2\n",
    "Find common elements between A and B using the intersection of two sets."
   ]
  },
  {
   "cell_type": "code",
   "execution_count": 4,
   "id": "171f3399",
   "metadata": {},
   "outputs": [
    {
     "name": "stdout",
     "output_type": "stream",
     "text": [
      "Common Elements: [4 5 6]\n"
     ]
    }
   ],
   "source": [
    "\n",
    "# Find common elements between A and B\n",
    "common_elements = np.intersect1d(A, B)\n",
    "print(\"Common Elements:\", common_elements)\n"
   ]
  },
  {
   "cell_type": "markdown",
   "id": "d972f945",
   "metadata": {},
   "source": [
    "### Question 3\n",
    "Extract all numbers from A which are within a specific range (e.g., between 5 and 10)."
   ]
  },
  {
   "cell_type": "code",
   "execution_count": 5,
   "id": "f479c553",
   "metadata": {},
   "outputs": [
    {
     "name": "stdout",
     "output_type": "stream",
     "text": [
      "Numbers in Range 5-10: [5 6]\n"
     ]
    }
   ],
   "source": [
    "\n",
    "# Extract numbers from A within a specific range (5 to 10)\n",
    "filtered_A = A[(A >= 5) & (A <= 10)]\n",
    "print(\"Numbers in Range 5-10:\", filtered_A)\n"
   ]
  },
  {
   "cell_type": "markdown",
   "id": "88e62a38",
   "metadata": {},
   "source": [
    "### Question 4\n",
    "Filter the rows of `iris_2d` where petal length (3rd column) > 1.5 and sepal length (1st column) < 5.0."
   ]
  },
  {
   "cell_type": "code",
   "execution_count": 6,
   "id": "a0874b61",
   "metadata": {},
   "outputs": [
    {
     "name": "stdout",
     "output_type": "stream",
     "text": [
      "Filtered Rows:\n",
      " [[4.8 3.4 1.6 0.2]\n",
      " [4.8 3.4 1.9 0.2]\n",
      " [4.7 3.2 1.6 0.2]\n",
      " [4.8 3.1 1.6 0.2]\n",
      " [4.9 2.4 3.3 1. ]\n",
      " [4.9 2.5 4.5 1.7]]\n"
     ]
    }
   ],
   "source": [
    "\n",
    "# Load dataset\n",
    "url = 'https://archive.ics.uci.edu/ml/machine-learning-databases/iris/iris.data'\n",
    "iris_2d = np.genfromtxt(url, delimiter=',', dtype='float', usecols=[0,1,2,3])\n",
    "\n",
    "# Filter rows\n",
    "filtered_iris = iris_2d[(iris_2d[:, 2] > 1.5) & (iris_2d[:, 0] < 5.0)]\n",
    "print(\"Filtered Rows:\\n\", filtered_iris)\n"
   ]
  },
  {
   "cell_type": "markdown",
   "id": "ecf76b0d",
   "metadata": {},
   "source": [
    "## Part 2 - Pandas"
   ]
  },
  {
   "cell_type": "markdown",
   "id": "af31429f",
   "metadata": {},
   "source": [
    "### Question 1\n",
    "From `df`, filter the 'Manufacturer', 'Model', and 'Type' for every 20th row starting from row 0."
   ]
  },
  {
   "cell_type": "code",
   "execution_count": 7,
   "id": "f616ee8b",
   "metadata": {},
   "outputs": [
    {
     "name": "stdout",
     "output_type": "stream",
     "text": [
      "   Manufacturer    Model     Type\n",
      "0         Acura  Integra    Small\n",
      "20     Chrysler  LeBaron  Compact\n",
      "40        Honda  Prelude   Sporty\n",
      "60      Mercury   Cougar  Midsize\n",
      "80       Subaru   Loyale    Small\n"
     ]
    },
    {
     "name": "stderr",
     "output_type": "stream",
     "text": [
      "/var/folders/73/4l1hsjs571387y9wktwsjsz00000gn/T/ipykernel_19618/358406178.py:1: DeprecationWarning: \n",
      "Pyarrow will become a required dependency of pandas in the next major release of pandas (pandas 3.0),\n",
      "(to allow more performant data types, such as the Arrow string type, and better interoperability with other libraries)\n",
      "but was not found to be installed on your system.\n",
      "If this would cause problems for you,\n",
      "please provide us feedback at https://github.com/pandas-dev/pandas/issues/54466\n",
      "        \n",
      "  import pandas as pd\n"
     ]
    }
   ],
   "source": [
    "\n",
    "import pandas as pd\n",
    "\n",
    "# Load dataset\n",
    "df = pd.read_csv('https://raw.githubusercontent.com/selva86/datasets/master/Cars93_miss.csv')\n",
    "\n",
    "# Filter required columns every 20th row\n",
    "filtered_df = df.loc[::20, ['Manufacturer', 'Model', 'Type']]\n",
    "print(filtered_df)\n"
   ]
  },
  {
   "cell_type": "markdown",
   "id": "70ecbf9d",
   "metadata": {},
   "source": [
    "### Question 2\n",
    "Replace missing values in 'Min.Price' and 'Max.Price' columns with their respective mean."
   ]
  },
  {
   "cell_type": "code",
   "execution_count": 8,
   "id": "6275ac55",
   "metadata": {},
   "outputs": [
    {
     "name": "stdout",
     "output_type": "stream",
     "text": [
      "   Min.Price  Max.Price\n",
      "0  12.900000  18.800000\n",
      "1  29.200000  38.700000\n",
      "2  25.900000  32.300000\n",
      "3  17.118605  44.600000\n",
      "4  17.118605  21.459091\n"
     ]
    },
    {
     "name": "stderr",
     "output_type": "stream",
     "text": [
      "/var/folders/73/4l1hsjs571387y9wktwsjsz00000gn/T/ipykernel_19618/294109284.py:2: FutureWarning: A value is trying to be set on a copy of a DataFrame or Series through chained assignment using an inplace method.\n",
      "The behavior will change in pandas 3.0. This inplace method will never work because the intermediate object on which we are setting values always behaves as a copy.\n",
      "\n",
      "For example, when doing 'df[col].method(value, inplace=True)', try using 'df.method({col: value}, inplace=True)' or df[col] = df[col].method(value) instead, to perform the operation inplace on the original object.\n",
      "\n",
      "\n",
      "  df['Min.Price'].fillna(df['Min.Price'].mean(), inplace=True)\n",
      "/var/folders/73/4l1hsjs571387y9wktwsjsz00000gn/T/ipykernel_19618/294109284.py:3: FutureWarning: A value is trying to be set on a copy of a DataFrame or Series through chained assignment using an inplace method.\n",
      "The behavior will change in pandas 3.0. This inplace method will never work because the intermediate object on which we are setting values always behaves as a copy.\n",
      "\n",
      "For example, when doing 'df[col].method(value, inplace=True)', try using 'df.method({col: value}, inplace=True)' or df[col] = df[col].method(value) instead, to perform the operation inplace on the original object.\n",
      "\n",
      "\n",
      "  df['Max.Price'].fillna(df['Max.Price'].mean(), inplace=True)\n"
     ]
    }
   ],
   "source": [
    "\n",
    "# Replace missing values with mean\n",
    "df['Min.Price'].fillna(df['Min.Price'].mean(), inplace=True)\n",
    "df['Max.Price'].fillna(df['Max.Price'].mean(), inplace=True)\n",
    "\n",
    "# Display updated data\n",
    "print(df[['Min.Price', 'Max.Price']].head())\n"
   ]
  },
  {
   "cell_type": "markdown",
   "id": "4bc2fbe8",
   "metadata": {},
   "source": [
    "### Question 3\n",
    "How to get the rows of a DataFrame where the row sum is greater than 100?"
   ]
  },
  {
   "cell_type": "code",
   "execution_count": 9,
   "id": "697ec590",
   "metadata": {},
   "outputs": [
    {
     "name": "stdout",
     "output_type": "stream",
     "text": [
      "Rows where sum > 100:\n",
      "      0   1   2   3\n",
      "5   17  34  39  39\n",
      "6   35  29  30  12\n",
      "8   37  19  21  35\n",
      "12  30  28  20  28\n"
     ]
    }
   ],
   "source": [
    "\n",
    "# Create a random DataFrame\n",
    "random_df = pd.DataFrame(np.random.randint(10, 40, 60).reshape(-1, 4))\n",
    "\n",
    "# Get rows where row sum > 100\n",
    "row_sum_filtered = random_df[random_df.sum(axis=1) > 100]\n",
    "\n",
    "print(\"Rows where sum > 100:\\n\", row_sum_filtered)\n"
   ]
  }
 ],
 "metadata": {
  "kernelspec": {
   "display_name": "Python 3",
   "language": "python",
   "name": "python3"
  },
  "language_info": {
   "codemirror_mode": {
    "name": "ipython",
    "version": 3
   },
   "file_extension": ".py",
   "mimetype": "text/x-python",
   "name": "python",
   "nbconvert_exporter": "python",
   "pygments_lexer": "ipython3",
   "version": "3.9.6"
  }
 },
 "nbformat": 4,
 "nbformat_minor": 5
}
