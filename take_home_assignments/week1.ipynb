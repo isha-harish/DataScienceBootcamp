{
 "cells": [
  {
   "cell_type": "markdown",
   "id": "8e0dd894",
   "metadata": {},
   "source": [
    "## Problem 1: Display Fibonacci Series up to 10 terms"
   ]
  },
  {
   "cell_type": "code",
   "execution_count": 1,
   "id": "d6cd922e",
   "metadata": {},
   "outputs": [
    {
     "name": "stdout",
     "output_type": "stream",
     "text": [
      "[0, 1, 1, 2, 3, 5, 8, 13, 21, 34]\n"
     ]
    }
   ],
   "source": [
    "def fibonacci(n):\n",
    "    fib_series = [0, 1]\n",
    "    for i in range(2, n):\n",
    "        fib_series.append(fib_series[-1] + fib_series[-2])\n",
    "    return fib_series\n",
    "\n",
    "print(fibonacci(10))"
   ]
  },
  {
   "cell_type": "markdown",
   "id": "95103355",
   "metadata": {},
   "source": [
    "## Problem 2: Display numbers at the odd indices of a list"
   ]
  },
  {
   "cell_type": "code",
   "execution_count": 2,
   "id": "9c310601",
   "metadata": {},
   "outputs": [
    {
     "name": "stdout",
     "output_type": "stream",
     "text": [
      "[20, 40, 60, 80, 100]\n"
     ]
    }
   ],
   "source": [
    "def odd_index_numbers(lst):\n",
    "    return [lst[i] for i in range(1, len(lst), 2)]\n",
    "\n",
    "sample_list = [10, 20, 30, 40, 50, 60, 70, 80, 90, 100]\n",
    "print(odd_index_numbers(sample_list))"
   ]
  },
  {
   "cell_type": "markdown",
   "id": "3892feb6",
   "metadata": {},
   "source": [
    "## Problem 3: Count the number of different words in the given text"
   ]
  },
  {
   "cell_type": "code",
   "execution_count": 3,
   "id": "49414e17",
   "metadata": {},
   "outputs": [
    {
     "name": "stdout",
     "output_type": "stream",
     "text": [
      "47\n"
     ]
    }
   ],
   "source": [
    "text = \"\"\"I have provided this text to provide tips on creating interesting paragraphs.\n",
    "\n",
    "First, start with a clear topic sentence that introduces the main idea.\n",
    "\n",
    "Then, support the topic sentence with specific details, examples, and evidence.\n",
    "\n",
    "Vary the sentence length and structure to keep the reader engaged.\n",
    "\n",
    "Finally, end with a strong concluding sentence that summarizes the main points.\n",
    "\n",
    "Remember, practice makes perfect!\n",
    "\"\"\"\n",
    "\n",
    "words = text.lower().split()\n",
    "unique_words = set(words)\n",
    "print(len(unique_words))"
   ]
  },
  {
   "cell_type": "markdown",
   "id": "3017061d",
   "metadata": {},
   "source": [
    "## Problem 4: Write a function count_vowels(word) that returns the number of vowels in a word"
   ]
  },
  {
   "cell_type": "code",
   "execution_count": 5,
   "id": "fc1b4b32",
   "metadata": {},
   "outputs": [
    {
     "name": "stdout",
     "output_type": "stream",
     "text": [
      "3\n"
     ]
    }
   ],
   "source": [
    "def count_vowels(word):\n",
    "    vowels = \"aeiouAEIOU\"\n",
    "    return sum(1 for char in word if char in vowels)\n",
    "\n",
    "print(count_vowels(\"HelloWorld\"))"
   ]
  },
  {
   "cell_type": "markdown",
   "id": "3f4fcc66",
   "metadata": {},
   "source": [
    "## Problem 5: Iterate through the list of animals and print each one in all caps"
   ]
  },
  {
   "cell_type": "code",
   "execution_count": 6,
   "id": "5c3e1b8f",
   "metadata": {},
   "outputs": [
    {
     "name": "stdout",
     "output_type": "stream",
     "text": [
      "TIGER\n",
      "ELEPHANT\n",
      "MONKEY\n",
      "ZEBRA\n",
      "PANTHER\n"
     ]
    }
   ],
   "source": [
    "animals = ['tiger', 'elephant', 'monkey', 'zebra', 'panther']\n",
    "\n",
    "for animal in animals:\n",
    "    print(animal.upper())"
   ]
  },
  {
   "cell_type": "markdown",
   "id": "1565fe02",
   "metadata": {},
   "source": [
    "## Problem 6: Iterate from 1 to 20, printing each number and whether it's odd or even"
   ]
  },
  {
   "cell_type": "code",
   "execution_count": 7,
   "id": "ac7535d2",
   "metadata": {},
   "outputs": [
    {
     "name": "stdout",
     "output_type": "stream",
     "text": [
      "1 is odd\n",
      "2 is even\n",
      "3 is odd\n",
      "4 is even\n",
      "5 is odd\n",
      "6 is even\n",
      "7 is odd\n",
      "8 is even\n",
      "9 is odd\n",
      "10 is even\n",
      "11 is odd\n",
      "12 is even\n",
      "13 is odd\n",
      "14 is even\n",
      "15 is odd\n",
      "16 is even\n",
      "17 is odd\n",
      "18 is even\n",
      "19 is odd\n",
      "20 is even\n"
     ]
    }
   ],
   "source": [
    "for i in range(1, 21):\n",
    "    print(f\"{i} is {'even' if i % 2 == 0 else 'odd'}\")"
   ]
  },
  {
   "cell_type": "markdown",
   "id": "616528d3",
   "metadata": {},
   "source": [
    "## Problem 7: Write a function sum_of_integers(a, b) that returns their sum"
   ]
  },
  {
   "cell_type": "code",
   "execution_count": 8,
   "id": "41cdfd45",
   "metadata": {},
   "outputs": [],
   "source": [
    "def sum_of_integers(a, b):\n",
    "    return a + b\n",
    "\n",
    "a = int(input(\"Enter first integer: \"))\n",
    "b = int(input(\"Enter second integer: \"))\n",
    "print(\"Sum:\", sum_of_integers(a, b))"
   ]
  }
 ],
 "metadata": {
  "kernelspec": {
   "display_name": "Python 3",
   "language": "python",
   "name": "python3"
  },
  "language_info": {
   "codemirror_mode": {
    "name": "ipython",
    "version": 3
   },
   "file_extension": ".py",
   "mimetype": "text/x-python",
   "name": "python",
   "nbconvert_exporter": "python",
   "pygments_lexer": "ipython3",
   "version": "3.9.6"
  }
 },
 "nbformat": 4,
 "nbformat_minor": 5
}
